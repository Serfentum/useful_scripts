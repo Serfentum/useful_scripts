{
 "cells": [
  {
   "cell_type": "markdown",
   "metadata": {},
   "source": [
    "# Loading from PDB\n",
    "This script is designed for loading files from PDB with 30 seconds delay after each loading  \n",
    "This delay is according to robots.txt file from PDB, where you can find conventions about working conditions with\n",
    "database via programs  \n",
    "Biopython contains function to load all files from list, yet there is no specified delay between loads and you can be\n",
    "banned for loading numerous files without timeouts  \n",
    "\n",
    "Script loads an entries.idx  \n",
    "Creates pdb_index file - clean file for dataframe  \n",
    "Creates directory with loaded pdb files  \n",
    "\n",
    "Note: at this script, I\\`ve loaded files contained RNA in their title  \n",
    "To change subset of files you should change line with 'mask' variable assignment  "
   ]
  },
  {
   "cell_type": "code",
   "execution_count": null,
   "metadata": {
    "collapsed": true
   },
   "outputs": [],
   "source": [
    "import subprocess as sp\n",
    "import pandas as pd\n",
    "from Bio import PDB\n",
    "import os\n",
    "import shlex\n",
    "import time"
   ]
  },
  {
   "cell_type": "code",
   "execution_count": null,
   "metadata": {
    "collapsed": true
   },
   "outputs": [],
   "source": [
    "# Absolute or relative path for directory to store pdbs\n",
    "path = input(\"Enter path to directory to store files: \")\n",
    "os.makedirs(path, exist_ok=True)\n",
    "\n",
    "# Initialize loading class\n",
    "load_struct = PDB.PDBList()"
   ]
  },
  {
   "cell_type": "code",
   "execution_count": null,
   "metadata": {
    "collapsed": true
   },
   "outputs": [],
   "source": [
    "# Parse command to load pdb index file\n",
    "command = shlex.split('wget ftp://ftp.wwpdb.org/pub/pdb/derived_data/index/entries.idx')\n",
    "# Run command\n",
    "sp.check_output(command, universal_newlines=True)"
   ]
  },
  {
   "cell_type": "code",
   "execution_count": null,
   "metadata": {
    "collapsed": true
   },
   "outputs": [],
   "source": [
    "# Delete junk --lines in file, make header tab-separated as whole other file\n",
    "with open('entries.idx', 'r') as source, open('pdb_index', 'w') as target:\n",
    "    for ind, line in enumerate(source):\n",
    "        if ind == 0:\n",
    "            line = line.replace(', ', '\\t')\n",
    "        if not line.startswith('-'):\n",
    "            target.write(line)"
   ]
  },
  {
   "cell_type": "code",
   "execution_count": null,
   "metadata": {},
   "outputs": [],
   "source": [
    "# Create dataframe from full file with pdb index\n",
    "with open('pdb_index', 'r') as source:\n",
    "    data = pd.read_csv(source, sep='\\t')\n",
    "\n",
    "print(data.shape, data.columns)\n",
    "data.head()"
   ]
  },
  {
   "cell_type": "code",
   "execution_count": null,
   "metadata": {},
   "outputs": [],
   "source": [
    "# Checking data\n",
    "print(data.isnull().any(), data.shape)\n",
    "\n",
    "# Drop files with empty header\n",
    "data.dropna(subset=['HEADER'], inplace=True)\n",
    "print(data.shape)\n",
    "\n",
    "# # Filter subset of data with RNA in header\n",
    "mask = data['HEADER'].str.contains('RNA')\n",
    "rna = data[mask]"
   ]
  },
  {
   "cell_type": "code",
   "execution_count": null,
   "metadata": {},
   "outputs": [],
   "source": [
    "# Create list with PDB ids of files with RNA\n",
    "rna_ids = rna['IDCODE'].unique().tolist()\n",
    "rna_length = len(rna_ids)\n",
    "rna_length, rna.head(), rna_ids"
   ]
  },
  {
   "cell_type": "code",
   "execution_count": null,
   "metadata": {
    "collapsed": true
   },
   "outputs": [],
   "source": [
    "with open('rna_ids', 'w') as file:\n",
    "    for entry in rna_ids:\n",
    "        file.write('{}\\n'.format(entry))"
   ]
  },
  {
   "cell_type": "code",
   "execution_count": null,
   "metadata": {},
   "outputs": [],
   "source": [
    "# Load 1 pdb file from RNA list, wait 30 seconds\n",
    "for ind, file in enumerate(rna_ids, 1):\n",
    "    load_struct.retrieve_pdb_file(file, file_format='pdb',pdir=path)\n",
    "    print(\"{} is loaded, {} from {}\".format(file, ind, rna_length))\n",
    "    time.sleep(30)"
   ]
  },
  {
   "cell_type": "code",
   "execution_count": null,
   "metadata": {
    "collapsed": true
   },
   "outputs": [],
   "source": [
    "# Variant for mmCIF files\n",
    "# Load 1 mmCIF file from RNA list, wait 30 seconds\n",
    "# for ind, r_id in enumerate(rna_ids, 1):\n",
    "#     load_struct.retrieve_pdb_file(r_id, file_format='mmCif',pdir=path)\n",
    "#     print(\"{} is loaded, {} from {}\".format(r_id, ind, rna_length))\n",
    "#     time.sleep(30)"
   ]
  }
 ],
 "metadata": {
  "anaconda-cloud": {},
  "kernelspec": {
   "display_name": "Python [default]",
   "language": "python",
   "name": "python3"
  },
  "language_info": {
   "codemirror_mode": {
    "name": "ipython",
    "version": 3.0
   },
   "file_extension": ".py",
   "mimetype": "text/x-python",
   "name": "python",
   "nbconvert_exporter": "python",
   "pygments_lexer": "ipython3",
   "version": "3.5.2"
  }
 },
 "nbformat": 4,
 "nbformat_minor": 0
}