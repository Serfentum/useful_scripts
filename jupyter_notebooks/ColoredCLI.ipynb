{
 "cells": [
  {
   "cell_type": "markdown",
   "metadata": {},
   "source": [
    "# Colored cli interface via argparser\n",
    "## Usage  \n",
    "1. locate this file in directory with your script where you use argparse   \n",
    "2. import statement - from colored_argparse import ColoredArgParser  \n",
    "3. replace argparse.ArgumentParser() with ColoredArgParser() in your script  \n",
    "\n",
    "[Original code](https://stackoverflow.com/questions/47155189/how-to-output-color-using-argparse-in-python-if-any-errors-happen)  \n",
    "Look [here](http://jafrog.com/2013/11/23/colors-in-terminal.html) for more information  about colors\n",
    "\n",
    "Colors  \n",
    "    30 - black  \n",
    "    31 - red  \n",
    "    32 - green  \n",
    "    33 - yellow  \n",
    "    34 - blue  \n",
    "    35 - magenta  \n",
    "    36 - cyan  \n",
    "    37 - white  \n",
    "Modes  \n",
    "    1 - bold  \n",
    "    3 - italics  \n",
    "    4 - underline  "
   ]
  },
  {
   "cell_type": "markdown",
   "metadata": {},
   "source": [
    "## Additional feature\n",
    "You can load and import argcomplete module to make your cli options autocompletable  \n",
    "To do so you will need to write about python autocompletion in bash file,  \n",
    "add #! /usr/bin/env python - to make your script executable,  \n",
    "add # PYTHON_ARGCOMPLETE_OK in the header of script and  \n",
    "add argcomplete.autocomplete(parser) just before parsing parser arguments (.parse_args())\n",
    "\n",
    "For more information about it look [here](https://github.com/kislyuk/argcomplete)"
   ]
  },
  {
   "cell_type": "code",
   "execution_count": 2,
   "metadata": {
    "collapsed": true
   },
   "outputs": [],
   "source": [
    "import argparse\n",
    "import sys"
   ]
  },
  {
   "cell_type": "code",
   "execution_count": 3,
   "metadata": {},
   "outputs": [],
   "source": [
    "class ColoredArgParser(argparse.ArgumentParser):\n",
    "    \"\"\"\n",
    "    Subclass of ArgumentParser\n",
    "    Enable  colored text printing\n",
    "            capital letters in help sections\n",
    "\n",
    "    First number - color, second - mode\n",
    "    \n",
    "    \"\"\"\n",
    "    # Values in this dictionary responsible for color of corresponding message\n",
    "    color_dict = {'usage': '33;1', 'help': '35;1', 'error': '31;1', 'version': '36;1'}\n",
    "\n",
    "\n",
    "    \n",
    "\n",
    "\n"
   ]
  },
  {
   "cell_type": "code",
   "execution_count": 4,
   "metadata": {
    "collapsed": true
   },
   "outputs": [],
   "source": [
    "    def format_help(self):\n",
    "        # Usage doesn`t add to help text automatically, it is printed separately lower\n",
    "        formatter = self._get_formatter()\n",
    "        formatter.add_text(self.description)\n",
    "        # positionals, optionals and user-defined groups\n",
    "        for action_group in self._action_groups:\n",
    "            formatter.start_section(action_group.title[0].upper() + action_group.title[1:])\n",
    "            formatter.add_text(action_group.description)\n",
    "            formatter.add_arguments(action_group._group_actions)\n",
    "            formatter.end_section()\n",
    "        # epilog\n",
    "        formatter.add_text(self.epilog)\n",
    "        # determine help from format above\n",
    "        return formatter.format_help()\n",
    "\n",
    "    def print_usage(self, file=None):\n",
    "        if file is None:\n",
    "            file = sys.stdout\n",
    "        self._print_message(self.format_usage()[0].upper() +\n",
    "                            self.format_usage()[1:],\n",
    "                            file, self.color_dict['usage'])\n",
    "\n",
    "    def print_help(self, file=None):\n",
    "        if file is None:\n",
    "            file = sys.stdout\n",
    "        self._print_message(self.format_usage()[0].upper() +\n",
    "                            self.format_usage()[1:],\n",
    "                            file, self.color_dict['usage'])\n",
    "        file.write('\\n')\n",
    "        self._print_message(self.format_help()[0].upper() +\n",
    "                            self.format_help()[1:],\n",
    "                            file, self.color_dict['help'])\n",
    "\n",
    "    def _print_message(self, message, file=None, color=None):\n",
    "        \"\"\"Function for coloring\"\"\"\n",
    "        if message:\n",
    "            if file is None:\n",
    "                file = sys.stderr\n",
    "            # Print messages in bold, colored text if color is given\n",
    "            if color is None:\n",
    "                file.write(message)\n",
    "            else:\n",
    "                # \\x1b[ is an escape character, m for command terminating, \\x1b[0m for \"endtag\"\n",
    "                file.write('\\x1b[{col}m{stdout}\\x1b[0m\\n'.format(col=color, stdout=message.strip()))\n",
    "\n",
    "    def exit(self, status=0, message=None):\n",
    "        if message:\n",
    "            self._print_message(message, sys.stderr, self.color_dict['error'])\n",
    "        sys.exit(status)\n",
    "\n",
    "    def error(self, message):\n",
    "        \"\"\"Function, which format error message, ofc you can change its format\"\"\"\n",
    "        self.print_usage(sys.stderr)\n",
    "        args = {'prog': self.prog, 'message': message}\n",
    "        self.exit(2, 'Error: {0[prog]}\\n{0[message]}\\n'.format(args))"
   ]
  }
 ],
 "metadata": {
  "anaconda-cloud": {},
  "kernelspec": {
   "display_name": "Python [default]",
   "language": "python",
   "name": "python3"
  },
  "language_info": {
   "codemirror_mode": {
    "name": "ipython",
    "version": 3
   },
   "file_extension": ".py",
   "mimetype": "text/x-python",
   "name": "python",
   "nbconvert_exporter": "python",
   "pygments_lexer": "ipython3",
   "version": "3.5.2"
  }
 },
 "nbformat": 4,
 "nbformat_minor": 1
}
